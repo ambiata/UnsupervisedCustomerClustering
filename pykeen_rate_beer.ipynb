{
 "cells": [
  {
   "cell_type": "code",
   "execution_count": 5,
   "metadata": {},
   "outputs": [
    {
     "name": "stdout",
     "output_type": "stream",
     "text": [
      "The autoreload extension is already loaded. To reload it, use:\n",
      "  %reload_ext autoreload\n"
     ]
    }
   ],
   "source": [
    "% load_ext autoreload\n",
    "% autoreload 2"
   ]
  },
  {
   "cell_type": "markdown",
   "source": [
    "# Customer Segmentation of \"Rate Beer\" using Knowledge Graph Embeddings\n",
    "This notebook uses Pytorch to create a Knowledge Graph Embedding of the customers purchases, usually data scientists try to segment customers in sequences like this using LSTM neural networks."
   ],
   "metadata": {
    "collapsed": false
   }
  },
  {
   "cell_type": "code",
   "execution_count": 6,
   "metadata": {},
   "outputs": [],
   "source": [
    "from clustering.rate_beer_loader import RateBeerLoaderPykeen"
   ]
  },
  {
   "cell_type": "markdown",
   "source": [
    "In the `RateBeerLoaderPykeen` object the `ratebeer.txt` file is read and creates a triples"
   ],
   "metadata": {
    "collapsed": false
   }
  },
  {
   "cell_type": "code",
   "execution_count": 7,
   "outputs": [
    {
     "name": "stdout",
     "output_type": "stream",
     "text": [
      "Found a previous save\n",
      "Loading Triples from the path downloaded.\n"
     ]
    }
   ],
   "source": [
    "pykeen_rate_beer = RateBeerLoaderPykeen(\"ratebeer.txt\", checkpoint_name=\"torch_pipeline_checkpoints.pt\")"
   ],
   "metadata": {
    "collapsed": false
   }
  },
  {
   "cell_type": "code",
   "execution_count": 8,
   "metadata": {},
   "outputs": [],
   "source": [
    "training_input = pykeen_rate_beer.get_rate_beer()"
   ]
  },
  {
   "cell_type": "markdown",
   "source": [
    "Now all the training input data is within `training_input`.\n",
    "We want a trained network embedding but we also want to be able to have scores as to the value of the graph.\n",
    "The paper uses a list of"
   ],
   "metadata": {
    "collapsed": false
   }
  },
  {
   "cell_type": "code",
   "execution_count": 9,
   "outputs": [
    {
     "name": "stderr",
     "output_type": "stream",
     "text": [
      "using automatically assigned random_state=1693226516\n",
      "INFO:pykeen.training.training_loop:=> loading checkpoint '/home/sora4222/.data/pykeen/checkpoints/torch_pipeline_checkpoints.pt'\n",
      "INFO:pykeen.training.training_loop:=> loaded checkpoint '/home/sora4222/.data/pykeen/checkpoints/torch_pipeline_checkpoints.pt' stopped after having finished epoch 8\n",
      "INFO:pykeen.stoppers.stopper:=> loading stopper summary dict from training loop checkpoint in '/home/sora4222/.data/pykeen/checkpoints/torch_pipeline_checkpoints.pt'\n",
      "INFO:pykeen.stoppers.stopper:=> loaded stopper summary dictionary from checkpoint in '/home/sora4222/.data/pykeen/checkpoints/torch_pipeline_checkpoints.pt'\n"
     ]
    },
    {
     "data": {
      "text/plain": "Training epochs on cuda:0: 100%|##########| 8/8 [00:00<?, ?epoch/s]",
      "application/vnd.jupyter.widget-view+json": {
       "version_major": 2,
       "version_minor": 0,
       "model_id": "8779bd6e649547a4aef24aeae4ae1e99"
      }
     },
     "metadata": {},
     "output_type": "display_data"
    },
    {
     "name": "stderr",
     "output_type": "stream",
     "text": [
      "INFO:pykeen.evaluation.evaluator:Starting batch_size search for evaluation now...\n",
      "INFO:pykeen.evaluation.evaluator:Concluded batch_size search with batch_size=4.\n"
     ]
    },
    {
     "data": {
      "text/plain": "Evaluating on cuda:0:   0%|          | 0.00/1.76M [00:00<?, ?triple/s]",
      "application/vnd.jupyter.widget-view+json": {
       "version_major": 2,
       "version_minor": 0,
       "model_id": "1e5dc9e38b8c4b90b7162b7e7a1cae89"
      }
     },
     "metadata": {},
     "output_type": "display_data"
    },
    {
     "name": "stderr",
     "output_type": "stream",
     "text": [
      "INFO:pykeen.evaluation.evaluator:Evaluation took 22559.72s seconds\n"
     ]
    }
   ],
   "source": [
    "from pykeen.metrics.ranking import InverseHarmonicMeanRank\n",
    "from pykeen.pipeline import pipeline\n",
    "from pykeen.models import TransE\n",
    "from pykeen.evaluation.rank_based_evaluator import RankBasedEvaluator\n",
    "\n",
    "train_transe, test_transe = training_input.split(0.95)\n",
    "\n",
    "transe_model_pipeline_results = pipeline(training=train_transe, testing=test_transe,\n",
    "                                         training_loop='sLCWA', model=TransE,\n",
    "                                         model_kwargs={\"embedding_dim\": 50},\n",
    "                                         training_kwargs=dict(checkpoint_name=\"torch_pipeline_checkpoints.pt\",\n",
    "                                                              checkpoint_frequency=1, num_epochs=8),\n",
    "                                         evaluator=RankBasedEvaluator,\n",
    "                                         evaluator_kwargs=dict(metrics=[InverseHarmonicMeanRank], add_defaults=False))\n"
   ],
   "metadata": {
    "collapsed": false
   }
  },
  {
   "cell_type": "code",
   "execution_count": 10,
   "outputs": [
    {
     "name": "stderr",
     "output_type": "stream",
     "text": [
      "INFO:pykeen.triples.triples_factory:Stored TriplesFactory(num_entities=3063968, num_relations=13, create_inverse_triples=False, num_triples=33384705, path=\"/mnt/a/PycharmProjects/UnsupervisedCustomerClustering/training_file.tsv\") to file:///mnt/a/PycharmProjects/UnsupervisedCustomerClustering/transe_trained/training_triples\n",
      "INFO:pykeen.pipeline.api:Saved to directory: file:///mnt/a/PycharmProjects/UnsupervisedCustomerClustering/transe_trained\n"
     ]
    }
   ],
   "source": [
    "transe_model_pipeline_results.save_to_directory(\"transe_trained\")"
   ],
   "metadata": {
    "collapsed": false
   }
  },
  {
   "cell_type": "markdown",
   "source": [],
   "metadata": {
    "collapsed": false
   }
  }
 ],
 "metadata": {
  "kernelspec": {
   "display_name": "Python 3 (ipykernel)",
   "language": "python",
   "name": "python3"
  },
  "language_info": {
   "codemirror_mode": {
    "name": "ipython",
    "version": 3
   },
   "file_extension": ".py",
   "mimetype": "text/x-python",
   "name": "python",
   "nbconvert_exporter": "python",
   "pygments_lexer": "ipython3",
   "version": "3.10.8"
  }
 },
 "nbformat": 4,
 "nbformat_minor": 1
}
