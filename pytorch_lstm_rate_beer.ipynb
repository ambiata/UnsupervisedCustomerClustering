{
 "cells": [
  {
   "cell_type": "markdown",
   "source": [
    "# LSTM and Rate Beer\n",
    "To compare against the customer clustering the knowledge graph gave a LSTM neural network will show the metrics of a more classical result.\n",
    "\n",
    "TODO:\n",
    "  * Load in the data\n",
    "  * Learn how to turn the data into the tabular form that Pytorch would take into it's neural networks.\n",
    "  * Code the neural network and it's loader.\n",
    "  * Code the embeddings that can be output.\n",
    "  * Code the customers to be grouped.\n",
    "  * Code the groups to be scored against each other."
   ],
   "metadata": {
    "collapsed": false
   }
  },
  {
   "cell_type": "code",
   "execution_count": null,
   "outputs": [],
   "source": [
    "import torch"
   ],
   "metadata": {
    "collapsed": false
   }
  }
 ],
 "metadata": {
  "kernelspec": {
   "display_name": "Python 3",
   "language": "python",
   "name": "python3"
  },
  "language_info": {
   "codemirror_mode": {
    "name": "ipython",
    "version": 2
   },
   "file_extension": ".py",
   "mimetype": "text/x-python",
   "name": "python",
   "nbconvert_exporter": "python",
   "pygments_lexer": "ipython2",
   "version": "2.7.6"
  }
 },
 "nbformat": 4,
 "nbformat_minor": 0
}
