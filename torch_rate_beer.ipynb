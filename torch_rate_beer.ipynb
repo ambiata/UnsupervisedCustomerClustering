{
 "cells": [
  {
   "cell_type": "code",
   "execution_count": 1,
   "metadata": {},
   "outputs": [],
   "source": [
    "%load_ext autoreload\n",
    "%autoreload 2"
   ]
  },
  {
   "cell_type": "markdown",
   "source": [
    "# Customer Segmentation of \"Rate Beer\" using Knowledge Graph Embeddings\n",
    "This notebook uses Pytorch to create a Knowledge Graph Embedding of the customers purchases, usually data scientists try to segment customers in sequences like this using LSTM neural networks."
   ],
   "metadata": {
    "collapsed": false
   }
  },
  {
   "cell_type": "code",
   "execution_count": 2,
   "metadata": {},
   "outputs": [],
   "source": [
    "from clustering.rate_beer_loader import RateBeerLoaderPykeen\n",
    "from pathlib import Path"
   ]
  },
  {
   "cell_type": "markdown",
   "source": [
    "In the `RateBeerLoaderPykeen` object the `ratebeer.txt` file is read and creates a triples"
   ],
   "metadata": {
    "collapsed": false
   }
  },
  {
   "cell_type": "code",
   "execution_count": null,
   "outputs": [
    {
     "name": "stdout",
     "output_type": "stream",
     "text": [
      "Found a previous save\n"
     ]
    }
   ],
   "source": [
    "pykeen_rate_beer = RateBeerLoaderPykeen(\"ratebeer.txt\")"
   ],
   "metadata": {
    "collapsed": false,
    "pycharm": {
     "is_executing": true
    }
   }
  },
  {
   "cell_type": "code",
   "execution_count": null,
   "metadata": {},
   "outputs": [],
   "source": [
    "training_input = pykeen_rate_beer.get_rate_beer()"
   ]
  },
  {
   "cell_type": "markdown",
   "source": [
    "Now all the training input data is within `training_input`.\n",
    "We want a trained network embedding but we also want to be able to have scores as to the value of the graph.\n",
    "The paper uses a list of"
   ],
   "metadata": {
    "collapsed": false
   }
  },
  {
   "cell_type": "code",
   "execution_count": null,
   "outputs": [],
   "source": [
    "from pykeen.pipeline import pipeline\n",
    "from pykeen.models import ComplEx, TransE\n",
    "from pykeen.evaluation import RankBasedEvaluator\n",
    "\n",
    "train_transe, test_transe, eval_transe = training_input.split([0.95, 0.03, 0.02])\n",
    "transe_model_pipeline_results = pipeline(training=train_transe, testing=test_transe, validation=eval_transe,\n",
    "                                         training_loop='sLCWA', model=TransE,\n",
    "                                         model_kwargs={\"embedding_dim\": 50},\n",
    "                                         evaluator=RankBasedEvaluator,\n",
    "                                         evaluator_kwargs=dict(metrics=[\"InverseHarmonicMeanRank\"]),\n",
    "                                         stopper=\"early\", stopper_kwargs=dict(frequency=5, patience=2, relative_delta=0.002))"
   ],
   "metadata": {
    "collapsed": false
   }
  },
  {
   "cell_type": "code",
   "execution_count": null,
   "outputs": [],
   "source": [
    "transe_model_pipeline_results.save_to_directory(\"transe_trained\")"
   ],
   "metadata": {
    "collapsed": false
   }
  },
  {
   "cell_type": "code",
   "execution_count": null,
   "outputs": [],
   "source": [
    "train_complex, test_complex, eval_complex = training_input.split([0.95, 0.03, 0.02])\n",
    "complex_model_pipeline_results = pipeline(training=train_complex, testing=test_complex, validation=eval_complex,\n",
    "                                          training_loop='sLCWA', model=ComplEx)"
   ],
   "metadata": {
    "collapsed": false
   }
  },
  {
   "cell_type": "markdown",
   "source": [],
   "metadata": {
    "collapsed": false
   }
  }
 ],
 "metadata": {
  "kernelspec": {
   "display_name": "Python 3 (ipykernel)",
   "language": "python",
   "name": "python3"
  },
  "language_info": {
   "codemirror_mode": {
    "name": "ipython",
    "version": 3
   },
   "file_extension": ".py",
   "mimetype": "text/x-python",
   "name": "python",
   "nbconvert_exporter": "python",
   "pygments_lexer": "ipython3",
   "version": "3.10.8"
  }
 },
 "nbformat": 4,
 "nbformat_minor": 1
}
