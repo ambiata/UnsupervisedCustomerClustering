{
 "cells": [
  {
   "cell_type": "code",
   "execution_count": 1,
   "outputs": [],
   "source": [
    "%load_ext autoreload\n",
    "%autoreload 2"
   ],
   "metadata": {
    "collapsed": false
   }
  },
  {
   "cell_type": "code",
   "execution_count": 2,
   "outputs": [],
   "source": [
    "from clustering.rate_beer_loader import RateBeerLoader\n",
    "import pandas as pd"
   ],
   "metadata": {
    "collapsed": false
   }
  },
  {
   "cell_type": "code",
   "execution_count": 3,
   "outputs": [],
   "source": [
    "loader = RateBeerLoader(\"ratebeer.txt\", limit_reviews_per_reviewer=500)"
   ],
   "metadata": {
    "collapsed": false
   }
  },
  {
   "cell_type": "code",
   "execution_count": 4,
   "outputs": [],
   "source": [
    "all_reviews = loader.load_rate_beer()"
   ],
   "metadata": {
    "collapsed": false
   }
  },
  {
   "cell_type": "code",
   "execution_count": 5,
   "outputs": [
    {
     "data": {
      "text/plain": "               Name  Counts   Percent\n3891      LyndaNova     498  0.066465\n1256           POLK     497  0.066331\n1772   johnadam2002     497  0.066331\n321        Muggus69     497  0.066331\n130         13mikey     496  0.066198\n...             ...     ...       ...\n19926  PeterSumborg       1  0.000133\n19927          mlee       1  0.000133\n19928    idledevils       1  0.000133\n19929         Deese       1  0.000133\n27904     stevieeee       1  0.000133\n\n[27905 rows x 3 columns]",
      "text/html": "<div>\n<style scoped>\n    .dataframe tbody tr th:only-of-type {\n        vertical-align: middle;\n    }\n\n    .dataframe tbody tr th {\n        vertical-align: top;\n    }\n\n    .dataframe thead th {\n        text-align: right;\n    }\n</style>\n<table border=\"1\" class=\"dataframe\">\n  <thead>\n    <tr style=\"text-align: right;\">\n      <th></th>\n      <th>Name</th>\n      <th>Counts</th>\n      <th>Percent</th>\n    </tr>\n  </thead>\n  <tbody>\n    <tr>\n      <th>3891</th>\n      <td>LyndaNova</td>\n      <td>498</td>\n      <td>0.066465</td>\n    </tr>\n    <tr>\n      <th>1256</th>\n      <td>POLK</td>\n      <td>497</td>\n      <td>0.066331</td>\n    </tr>\n    <tr>\n      <th>1772</th>\n      <td>johnadam2002</td>\n      <td>497</td>\n      <td>0.066331</td>\n    </tr>\n    <tr>\n      <th>321</th>\n      <td>Muggus69</td>\n      <td>497</td>\n      <td>0.066331</td>\n    </tr>\n    <tr>\n      <th>130</th>\n      <td>13mikey</td>\n      <td>496</td>\n      <td>0.066198</td>\n    </tr>\n    <tr>\n      <th>...</th>\n      <td>...</td>\n      <td>...</td>\n      <td>...</td>\n    </tr>\n    <tr>\n      <th>19926</th>\n      <td>PeterSumborg</td>\n      <td>1</td>\n      <td>0.000133</td>\n    </tr>\n    <tr>\n      <th>19927</th>\n      <td>mlee</td>\n      <td>1</td>\n      <td>0.000133</td>\n    </tr>\n    <tr>\n      <th>19928</th>\n      <td>idledevils</td>\n      <td>1</td>\n      <td>0.000133</td>\n    </tr>\n    <tr>\n      <th>19929</th>\n      <td>Deese</td>\n      <td>1</td>\n      <td>0.000133</td>\n    </tr>\n    <tr>\n      <th>27904</th>\n      <td>stevieeee</td>\n      <td>1</td>\n      <td>0.000133</td>\n    </tr>\n  </tbody>\n</table>\n<p>27905 rows × 3 columns</p>\n</div>"
     },
     "execution_count": 5,
     "metadata": {},
     "output_type": "execute_result"
    }
   ],
   "source": [
    "names = []\n",
    "count_vals = []\n",
    "percent_of_vals = []\n",
    "total = loader.all_reviewers.total()\n",
    "for reviewer_name, count in loader.all_reviewers.items():\n",
    "    names.append(reviewer_name)\n",
    "    count_vals.append(count)\n",
    "    percent_of_vals.append(count * 100 / total)\n",
    "\n",
    "reviewers = pd.DataFrame({\"Name\": names, \"Counts\": count_vals, \"Percent\": percent_of_vals})\n",
    "reviewers.sort_values(by=\"Counts\", ascending=False)"
   ],
   "metadata": {
    "collapsed": false
   }
  },
  {
   "cell_type": "code",
   "execution_count": 7,
   "outputs": [
    {
     "data": {
      "text/plain": "[('fonefan', 16364),\n ('Ungstrup', 15296),\n ('Papsoe', 14170),\n ('yespr', 13486),\n ('oh6gdx', 9994),\n ('kp', 9487),\n ('omhper', 9427),\n ('joergen', 8318),\n ('jcwattsrugger', 8296),\n ('DJMonarch', 8231),\n ('argo0', 8207),\n ('Oakes', 8132),\n ('bu11zeye', 8022),\n ('harrisoni', 7625),\n ('MiP', 7420)]"
     },
     "execution_count": 7,
     "metadata": {},
     "output_type": "execute_result"
    }
   ],
   "source": [
    "loader.all_reviewers.most_common(15)"
   ],
   "metadata": {
    "collapsed": false
   }
  }
 ],
 "metadata": {
  "kernelspec": {
   "display_name": "Python 3",
   "language": "python",
   "name": "python3"
  },
  "language_info": {
   "codemirror_mode": {
    "name": "ipython",
    "version": 2
   },
   "file_extension": ".py",
   "mimetype": "text/x-python",
   "name": "python",
   "nbconvert_exporter": "python",
   "pygments_lexer": "ipython2",
   "version": "2.7.6"
  }
 },
 "nbformat": 4,
 "nbformat_minor": 0
}
